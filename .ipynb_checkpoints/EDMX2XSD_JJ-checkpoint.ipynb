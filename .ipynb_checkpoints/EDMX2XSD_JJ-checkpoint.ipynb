{
 "cells": [
  {
   "cell_type": "markdown",
   "metadata": {},
   "source": [
    "# EDMX2XSD \n",
    "Conversion \n",
    "\n",
    "## Uses cases: \n",
    "    * SAP PI - Interface creation \n",
    "    * conversion from REST to SOAP \n"
   ]
  },
  {
   "cell_type": "markdown",
   "metadata": {},
   "source": [
    "## Analysis "
   ]
  },
  {
   "cell_type": "code",
   "execution_count": null,
   "metadata": {},
   "outputs": [],
   "source": []
  },
  {
   "cell_type": "code",
   "execution_count": null,
   "metadata": {},
   "outputs": [],
   "source": []
  },
  {
   "cell_type": "markdown",
   "metadata": {},
   "source": [
    "### XML Response"
   ]
  },
  {
   "cell_type": "code",
   "execution_count": null,
   "metadata": {},
   "outputs": [],
   "source": [
    "# split on    from: '<value', 1 ) to '</value>', 1 )  \n",
    "start = '<value'\n",
    "end   = '</value>'\n",
    "\n",
    "# elements = split at '</'  => I don't get the type   "
   ]
  },
  {
   "cell_type": "code",
   "execution_count": null,
   "metadata": {},
   "outputs": [],
   "source": []
  },
  {
   "cell_type": "code",
   "execution_count": null,
   "metadata": {},
   "outputs": [],
   "source": []
  },
  {
   "cell_type": "markdown",
   "metadata": {},
   "source": [
    "### XSD Structure:\n",
    "\n",
    "<!-- comment --> \n"
   ]
  },
  {
   "cell_type": "markdown",
   "metadata": {},
   "source": [
    "#### ex1 \n",
    "convert EDMX TO XSD \n",
    "\n",
    "\n"
   ]
  },
  {
   "cell_type": "code",
   "execution_count": 1,
   "metadata": {},
   "outputs": [],
   "source": [
    "sNamespace = '\"http://namespace.com/project1\"'\n",
    "sDescription = ' \"DT Project 1 \" '\n",
    "\n",
    "# <?xml version=\"1.0\" encoding=\"UTF-8\"?><xsd:schema targetNamespace= sNamespace  xmlns:xsd=\"http://www.w3.org/2001/XMLSchema\" xmlns=sNamespace>\n",
    "#     <xsd:complexType name=\"sDescription\">  \n",
    "#         <xsd:annotation><xsd:documentation xml:lang=\"EN\">  sDescription  </xsd:documentation></xsd:annotation>\n",
    "#         <xsd:sequence>\n",
    "\n",
    "#             complex subtype \n",
    "#             <xsd:element name=\"value\">\n",
    "#                 <xsd:complexType>\n",
    "#                     <xsd:sequence>\n",
    "#                         <xsd:element name=\"element1\" type=\"xsd:string\" />\n",
    "#                     </xsd:sequence>\n",
    "#                 </xsd:complexType>   \n",
    "#             </xsd:element>\n",
    "\n",
    "#             Simple type \n",
    "#             <xsd:element name=\"element1\" type=\"xsd:string\" />\n",
    "\n",
    "#         </xsd:sequence>\n",
    "#     </xsd:complexType>\n",
    "# </xsd:schema>"
   ]
  },
  {
   "cell_type": "code",
   "execution_count": 2,
   "metadata": {},
   "outputs": [
    {
     "name": "stdout",
     "output_type": "stream",
     "text": [
      "\"http://namespace.com/project1\"\n"
     ]
    }
   ],
   "source": [
    "print(sNamespace)"
   ]
  },
  {
   "cell_type": "code",
   "execution_count": 11,
   "metadata": {
    "code_folding": []
   },
   "outputs": [],
   "source": [
    "sNamespace    = '\"http://namespace.com/project1\"'\n",
    "sDescription  = '\"DT Project 1 \"'\n",
    "sDescription2 = 'DT Project 1 '\n",
    "xsd =       '<?xml version=\"1.0\" encoding=\"UTF-8\"?><xsd:schema targetNamespace='+ sNamespace\n",
    "xsd = xsd + 'xmlns:xsd=\"http://www.w3.org/2001/XMLSchema\" xmlns='+sNamespace+'>'  \n",
    "xsd = xsd + '<xsd:complexType name='+sDescription+'>'   \n",
    "xsd = xsd + '<xsd:annotation><xsd:documentation xml:lang=\"EN\">'+sDescription2+'</xsd:documentation></xsd:annotation>' \n",
    "xsd = xsd + '<xsd:sequence>' \n",
    "xsd = xsd + '<xsd:element name=\"value\">' \n",
    "xsd = xsd + '<xsd:complexType><xsd:sequence>' \n",
    "xsd = xsd + '<xsd:element name=\"element1\" type=\"xsd:string\" minOccurs=\"0\" />' \n",
    "xsd = xsd + '</xsd:sequence></xsd:complexType>'    \n",
    "xsd = xsd + '</xsd:element>' \n",
    "xsd = xsd + '</xsd:sequence>' \n",
    "xsd = xsd + '</xsd:complexType>' \n",
    "xsd = xsd + '</xsd:schema>'"
   ]
  },
  {
   "cell_type": "code",
   "execution_count": 12,
   "metadata": {},
   "outputs": [
    {
     "data": {
      "text/plain": [
       "'<?xml version=\"1.0\" encoding=\"UTF-8\"?><xsd:schema targetNamespace=\"http://namespace.com/project1\"xmlns:xsd=\"http://www.w3.org/2001/XMLSchema\" xmlns=\"http://namespace.com/project1\"><xsd:complexType name=\"DT Project 1 \"><xsd:annotation><xsd:documentation xml:lang=\"EN\">DT Project 1 </xsd:documentation></xsd:annotation><xsd:sequence><xsd:element name=\"value\"><xsd:complexType><xsd:sequence><xsd:element name=\"element1\" type=\"xsd:string\" /></xsd:sequence></xsd:complexType></xsd:element></xsd:sequence></xsd:complexType></xsd:schema>'"
      ]
     },
     "execution_count": 12,
     "metadata": {},
     "output_type": "execute_result"
    }
   ],
   "source": [
    "xsd"
   ]
  },
  {
   "cell_type": "code",
   "execution_count": 26,
   "metadata": {},
   "outputs": [
    {
     "name": "stdout",
     "output_type": "stream",
     "text": [
      "value -- {'element1': 'string'} \n",
      "__dictionary\n",
      "element1 -- string \n"
     ]
    }
   ],
   "source": [
    "values = { 'value' : {\n",
    "                'element1' : 'string'\n",
    "            }\n",
    "         }\n",
    "# print(values['value'])\n",
    "for i in values: \n",
    "    print(\"{} -- {} \".format(i, values[i] ))\n",
    "    if(type(values[i]) == dict): \n",
    "        print(\"__dictionary\"); \n",
    "        for j in values[i]: \n",
    "            print(\"{} -- {} \".format(j, values[i][j] ))\n",
    "        \n",
    "        \n",
    "    else: print(\"other\")"
   ]
  },
  {
   "cell_type": "markdown",
   "metadata": {},
   "source": [
    "#### Functions"
   ]
  },
  {
   "cell_type": "code",
   "execution_count": 123,
   "metadata": {},
   "outputs": [],
   "source": [
    "path = '../DYN_DT_PortfolioResponse.xsd'\n",
    "with open(path, 'r') as file:\n",
    "    fileXSD = file.read().replace('\\n', '')"
   ]
  },
  {
   "cell_type": "code",
   "execution_count": 144,
   "metadata": {},
   "outputs": [],
   "source": [
    "def getElements(): \n",
    "    elements = fileXSD.split(\"<xsd:element\")\n",
    "    tmp = []\n",
    "    for e in elements: \n",
    "        if e[0:5] == ' name': \n",
    "                eName = e.split('name=\"')\n",
    "                eName = eName[1].split('\"', 1)\n",
    "                tmp.append(eName[0])\n",
    "                #print(eName[0])\n",
    "    print(len(tmp))\n",
    "    return tmp"
   ]
  },
  {
   "cell_type": "code",
   "execution_count": 145,
   "metadata": {},
   "outputs": [
    {
     "name": "stdout",
     "output_type": "stream",
     "text": [
      "89\n"
     ]
    }
   ],
   "source": [
    "elements = getElements()"
   ]
  },
  {
   "cell_type": "code",
   "execution_count": 147,
   "metadata": {},
   "outputs": [],
   "source": [
    "# elements"
   ]
  },
  {
   "cell_type": "code",
   "execution_count": null,
   "metadata": {},
   "outputs": [],
   "source": []
  },
  {
   "cell_type": "code",
   "execution_count": null,
   "metadata": {},
   "outputs": [],
   "source": []
  },
  {
   "cell_type": "markdown",
   "metadata": {},
   "source": [
    "#### ex2"
   ]
  },
  {
   "cell_type": "code",
   "execution_count": 1,
   "metadata": {},
   "outputs": [
    {
     "ename": "SyntaxError",
     "evalue": "invalid syntax (<ipython-input-1-fe605db327bf>, line 1)",
     "output_type": "error",
     "traceback": [
      "\u001b[1;36m  File \u001b[1;32m\"<ipython-input-1-fe605db327bf>\"\u001b[1;36m, line \u001b[1;32m1\u001b[0m\n\u001b[1;33m    <?xml version=\"1.0\" encoding=\"UTF-8\"?>\u001b[0m\n\u001b[1;37m    ^\u001b[0m\n\u001b[1;31mSyntaxError\u001b[0m\u001b[1;31m:\u001b[0m invalid syntax\n"
     ]
    }
   ],
   "source": [
    "# <?xml version=\"1.0\" encoding=\"UTF-8\"?>\n",
    "# <xsd:schema targetNamespace=sNamespace xmlns:xsd=\"http://www.w3.org/2001/XMLSchema\"\n",
    "#     xmlns=sNamespace>\n",
    "#     <xsd:complexType name=sDescription>\n",
    "#         <xsd:annotation>\n",
    "#             <xsd:documentation xml:lang=\"EN\">sDescription2</xsd:documentation>\n",
    "#         </xsd:annotation>\n",
    "#         <xsd:sequence>\n",
    "#             <xsd:element name=\"value\">\n",
    "#                 <xsd:complexType>\n",
    "#                     <xsd:sequence>\n",
    "#                         <xsd:element name=\"element1\" type=\"xsd:string\" />\n",
    "#                     </xsd:sequence>\n",
    "#                 </xsd:complexType>\n",
    "#             </xsd:element>\n",
    "#         </xsd:sequence>\n",
    "#     </xsd:complexType>\n",
    "# </xsd:schema>"
   ]
  },
  {
   "cell_type": "code",
   "execution_count": 10,
   "metadata": {},
   "outputs": [],
   "source": [
    "# '<?xml version=\"1.0\" encoding=\"UTF-8\"?><xsd:schema targetNamespace= sNamespacexmlns:xsd=\"http://www.w3.org/2001/XMLSchema\" xmlns=sNamespace><xsd:complexType name=\"sDescription\"><xsd:annotation><xsd:documentation xml:lang=\"EN\">  sDescription  </xsd:documentation></xsd:annotation><xsd:sequence><xsd:element name=\"value\"><xsd:complexType><xsd:sequence><xsd:element name=\"element1\" type=\"xsd:string\" /></xsd:sequence></xsd:complexType></xsd:element></xsd:sequence></xsd:complexType></xsd:schema>'"
   ]
  },
  {
   "cell_type": "markdown",
   "metadata": {
    "heading_collapsed": true
   },
   "source": [
    "### EDMX"
   ]
  },
  {
   "cell_type": "markdown",
   "metadata": {
    "heading_collapsed": true,
    "hidden": true
   },
   "source": [
    "#### Functions"
   ]
  },
  {
   "cell_type": "code",
   "execution_count": 103,
   "metadata": {
    "hidden": true
   },
   "outputs": [],
   "source": [
    "path = '../DYNAMICS_ODataV4_edmx.xml'\n",
    "with open(path, 'r') as file:\n",
    "    fileEdmx = file.read().replace('\\n', '')"
   ]
  },
  {
   "cell_type": "code",
   "execution_count": 104,
   "metadata": {
    "hidden": true
   },
   "outputs": [],
   "source": [
    "def getEntity(entityName): \n",
    "    entityData = fileEdmx.split('<EntityType Name='+ entityName)\n",
    "    entityData = entityData[1].split(\"</EntityType>\", 1)\n",
    "\n",
    "    print(len(entityData))\n",
    "    entityData  = entityData[0] \n",
    "    return entityData"
   ]
  },
  {
   "cell_type": "code",
   "execution_count": 161,
   "metadata": {
    "hidden": true
   },
   "outputs": [],
   "source": [
    "def getAttribute(attr, entityData ): \n",
    "    attributeData = entityData.split(attr)\n",
    "    tmp = []\n",
    "    for at in attributeData: \n",
    "    #     print(prop[0:5])\n",
    "        if at[0:5] == ' Name': \n",
    "            #print(prop)\n",
    "            atName = at.split(' Name=\"')\n",
    "            atName = atName[1].split('\"', 1)\n",
    "            name = atName[0]\n",
    "            if name[0] == '_': \n",
    "                name = name[1:]\n",
    "            tmp.append(name)\n",
    "            #print(NProp[0])\n",
    "    print(len(tmp))\n",
    "    return tmp\n"
   ]
  },
  {
   "cell_type": "code",
   "execution_count": 172,
   "metadata": {
    "hidden": true
   },
   "outputs": [],
   "source": [
    "\n",
    "# xsd =       '<?xml version=\"1.0\" encoding=\"UTF-8\"?><xsd:schema targetNamespace='+ sNamespace\n",
    "# xsd = xsd + 'xmlns:xsd=\"http://www.w3.org/2001/XMLSchema\" xmlns='+sNamespace+'>'  \n",
    "# xsd = xsd + '<xsd:complexType name='+sDescription+'>'   \n",
    "# xsd = xsd + '<xsd:annotation><xsd:documentation xml:lang=\"EN\">'+sDescription2+'</xsd:documentation></xsd:annotation>' \n",
    "# xsd = xsd + '<xsd:sequence>' \n",
    "# xsd = xsd + '<xsd:element name=\"value\">' \n",
    "# xsd = xsd + '<xsd:complexType><xsd:sequence>' \n",
    "# xsd = xsd + '<xsd:element name=\"element1\" type=\"xsd:string\" minOccurs=\"0\" />' \n",
    "# xsd = xsd + '</xsd:sequence></xsd:complexType>'    \n",
    "# xsd = xsd + '</xsd:element>' \n",
    "# xsd = xsd + '</xsd:sequence>' \n",
    "# xsd = xsd + '</xsd:complexType>' \n",
    "# xsd = xsd + '</xsd:schema>'\n",
    "\n",
    "def printBasic4XSD(propertyNames, \n",
    "                   keys=[], \n",
    "                   snms = '\"http://namespace.com/project1\"',\n",
    "                   sd1  = '\"DT_Name \"',  \n",
    "                   sd2  = 'DT Project'): \n",
    "    print(len(propertyNames))\n",
    "#     sNamespace    = '\"http://namespace.com/project1\"'\n",
    "#     sDescription  = '\"DT Project 1 \"'\n",
    "#     sDescription2 = sDescription.replace('\"', '')\n",
    "    \n",
    "    print('<?xml version=\"1.0\" encoding=\"UTF-8\"?><xsd:schema targetNamespace='+ snms )\n",
    "    print('xmlns:xsd=\"http://www.w3.org/2001/XMLSchema\" xmlns='+snms+'>'  )\n",
    "    print('<xsd:complexType name='+sd1+'>'   )\n",
    "    print('<xsd:annotation><xsd:documentation xml:lang=\"EN\">'+sd2+'</xsd:documentation></xsd:annotation>' )\n",
    "    print('<xsd:sequence>' )\n",
    "    print('<xsd:element name=\"value\">' )\n",
    "    print('<xsd:complexType><xsd:sequence>' )\n",
    "    for p in propertyNames:\n",
    "        if p in keys: minOccur = \"1\"\n",
    "        else :  minOccur = \"0\"\n",
    "        print('<xsd:element name=\"{}\" type=\"xsd:string\" minOccurs=\"{}\"/>'.format(p,minOccur))\n",
    "\n",
    "    print( '</xsd:sequence></xsd:complexType>')    \n",
    "    print('</xsd:element>' )\n",
    "    print('</xsd:sequence>' )\n",
    "    print('</xsd:complexType>') \n",
    "    print( '</xsd:schema>')"
   ]
  },
  {
   "cell_type": "code",
   "execution_count": 107,
   "metadata": {
    "hidden": true
   },
   "outputs": [],
   "source": [
    "# Edm_types:   \n",
    "#     Edm.Int32 \n",
    "#     Edm.Int64\n",
    "#     Edm.String   => xsd:string\n",
    "#     Edm.Date\n",
    "#     Edm.DateTimeOffset\n",
    "#     Edm.Guid\n",
    "#     Edm.Decimal\n",
    "    \n",
    "#     NavigationProperties => Type complex\n",
    "    \n",
    "# Unicode = false, true "
   ]
  },
  {
   "cell_type": "code",
   "execution_count": 154,
   "metadata": {
    "hidden": true
   },
   "outputs": [],
   "source": [
    "Property = []\n",
    "PropertyRef = []\n",
    "NavigationProperty = []\n",
    "PropertyOO = []"
   ]
  },
  {
   "cell_type": "markdown",
   "metadata": {
    "heading_collapsed": true,
    "hidden": true
   },
   "source": [
    "#### test    \"alt_portfolio\"\n"
   ]
  },
  {
   "cell_type": "code",
   "execution_count": 179,
   "metadata": {
    "hidden": true
   },
   "outputs": [
    {
     "name": "stdout",
     "output_type": "stream",
     "text": [
      "2\n",
      "123\n",
      "1\n",
      "23\n",
      "100\n"
     ]
    }
   ],
   "source": [
    "alt_portfolio = getEntity('\"alt_portfolio\"')\n",
    "Property = getAttribute(\"Property\" , alt_portfolio)\n",
    "PropertyRef = getAttribute(\"PropertyRef\" , alt_portfolio)\n",
    "NavigationProperty = getAttribute(\"NavigationProperty\" , alt_portfolio)\n",
    "PropertyOO = getAttribute(\"<Property\" , alt_portfolio)"
   ]
  },
  {
   "cell_type": "markdown",
   "metadata": {
    "hidden": true
   },
   "source": [
    "#### alt_turnover"
   ]
  },
  {
   "cell_type": "code",
   "execution_count": 180,
   "metadata": {
    "hidden": true
   },
   "outputs": [
    {
     "name": "stdout",
     "output_type": "stream",
     "text": [
      "2\n",
      "76\n",
      "1\n",
      "21\n",
      "55\n"
     ]
    }
   ],
   "source": [
    "alt_turnover = getEntity('\"alt_turnover\"')\n",
    "Property = getAttribute(\"Property\" , alt_turnover)\n",
    "PropertyRef = getAttribute(\"PropertyRef\" , alt_turnover)\n",
    "NavigationProperty = getAttribute(\"NavigationProperty\" , alt_turnover)\n",
    "PropertyOO = getAttribute(\"<Property\" , alt_turnover)"
   ]
  },
  {
   "cell_type": "code",
   "execution_count": null,
   "metadata": {
    "hidden": true
   },
   "outputs": [],
   "source": []
  },
  {
   "cell_type": "code",
   "execution_count": null,
   "metadata": {
    "hidden": true
   },
   "outputs": [],
   "source": []
  },
  {
   "cell_type": "code",
   "execution_count": 102,
   "metadata": {
    "hidden": true
   },
   "outputs": [
    {
     "name": "stdout",
     "output_type": "stream",
     "text": [
      "2\n"
     ]
    }
   ],
   "source": [
    "systemuser = getEntity('\"systemuser\"')\n",
    "# systemuser"
   ]
  },
  {
   "cell_type": "markdown",
   "metadata": {},
   "source": [
    "### Conversions"
   ]
  },
  {
   "cell_type": "markdown",
   "metadata": {},
   "source": [
    "#### EDMX 1 - Only <Property values \n",
    "* PropertyRef (keys) => at least 1 occurence \n",
    "* All types = to string \n",
    "* namespace, type, description \n",
    "* delete the first character if it is '_' in the names"
   ]
  },
  {
   "cell_type": "code",
   "execution_count": 183,
   "metadata": {},
   "outputs": [],
   "source": [
    "sNamespace = '\"http://namespace.com/1233\"' \n",
    "sd1  = '\"DT_XSD_Name\"'\n",
    "sd2 = 'DT Project'\n",
    "\n",
    "\n",
    "printBasic4XSD(PropertyOO, PropertyRef , sNamespace , sd1, sd2 )\n",
    "# minOccurs=\"1\" ==> keys"
   ]
  },
  {
   "cell_type": "code",
   "execution_count": null,
   "metadata": {},
   "outputs": [],
   "source": []
  },
  {
   "cell_type": "markdown",
   "metadata": {},
   "source": [
    "#### EDMX 2 -- ? "
   ]
  },
  {
   "cell_type": "code",
   "execution_count": null,
   "metadata": {},
   "outputs": [],
   "source": []
  },
  {
   "cell_type": "code",
   "execution_count": null,
   "metadata": {},
   "outputs": [],
   "source": []
  },
  {
   "cell_type": "markdown",
   "metadata": {
    "heading_collapsed": true
   },
   "source": [
    "### Drafts"
   ]
  },
  {
   "cell_type": "markdown",
   "metadata": {
    "hidden": true
   },
   "source": [
    "#### Draft2"
   ]
  },
  {
   "cell_type": "code",
   "execution_count": 177,
   "metadata": {
    "hidden": true
   },
   "outputs": [
    {
     "name": "stdout",
     "output_type": "stream",
     "text": [
      "0\n"
     ]
    }
   ],
   "source": [
    "# PropertyRef\n",
    "# PropertyOO\n",
    "if PropertyOO[23] in PropertyRef: \n",
    "    print(\"key!\") #23 portfolio // ?? turnover\n",
    "    minOccur = \"1\"\n",
    "else :  \n",
    "    minOccur = \"0\"\n",
    "print(minOccur)\n",
    "# PropertyRef"
   ]
  },
  {
   "cell_type": "markdown",
   "metadata": {
    "hidden": true
   },
   "source": [
    "#### Draft1"
   ]
  },
  {
   "cell_type": "code",
   "execution_count": 109,
   "metadata": {
    "hidden": true
   },
   "outputs": [],
   "source": [
    "# print(data[0:100])\n",
    "# print(len(data))"
   ]
  },
  {
   "cell_type": "code",
   "execution_count": 67,
   "metadata": {
    "hidden": true
   },
   "outputs": [
    {
     "name": "stdout",
     "output_type": "stream",
     "text": [
      "2\n"
     ]
    }
   ],
   "source": [
    "entity = '\"alt_portfolio\"'\n",
    "alt_portfolio = data.split('<EntityType Name='+ entity)\n",
    "alt_portfolio = alt_portfolio[1].split(\"</EntityType>\", 1)\n",
    "\n",
    "print(len(alt_portfolio))\n",
    "alt_portfolio  = alt_portfolio[0]\n",
    "# print(alt_portfolio)"
   ]
  },
  {
   "cell_type": "code",
   "execution_count": 76,
   "metadata": {
    "hidden": true,
    "scrolled": false
   },
   "outputs": [
    {
     "name": "stdout",
     "output_type": "stream",
     "text": [
      "123\n"
     ]
    }
   ],
   "source": [
    "alt_portfolio_p = alt_portfolio.split(\"Property\")\n",
    "tmp = []\n",
    "for prop in alt_portfolio_p: \n",
    "#     print(prop[0:5])\n",
    "    if prop[0:5] == ' Name': \n",
    "        #print(prop)\n",
    "        NProp = prop.split(' Name=\"')\n",
    "        NProp = NProp[1].split('\"', 1)\n",
    "        tmp.append(NProp[0])\n",
    "        #print(NProp[0])\n",
    "print(len(tmp))\n",
    "Property = tmp\n",
    "# Property"
   ]
  },
  {
   "cell_type": "code",
   "execution_count": 74,
   "metadata": {
    "hidden": true
   },
   "outputs": [
    {
     "name": "stdout",
     "output_type": "stream",
     "text": [
      "1\n"
     ]
    }
   ],
   "source": [
    "alt_portfolio_p = alt_portfolio.split(\"PropertyRef\")\n",
    "tmp = []\n",
    "for prop in alt_portfolio_p: \n",
    "#     print(prop[0:5])\n",
    "    if prop[0:5] == ' Name': \n",
    "        #print(prop)\n",
    "        NProp = prop.split(' Name=\"')\n",
    "        NProp = NProp[1].split('\"', 1)\n",
    "        tmp.append(NProp[0])\n",
    "        #print(NProp[0])\n",
    "print(len(tmp))\n",
    "PropertyRef = tmp\n",
    "# PropertyRef"
   ]
  },
  {
   "cell_type": "code",
   "execution_count": 80,
   "metadata": {
    "hidden": true
   },
   "outputs": [
    {
     "name": "stdout",
     "output_type": "stream",
     "text": [
      "23\n"
     ]
    }
   ],
   "source": [
    "alt_portfolio_p = alt_portfolio.split(\"NavigationProperty\")\n",
    "tmp = []\n",
    "for prop in alt_portfolio_p: \n",
    "#     print(prop[0:5])\n",
    "    if prop[0:5] == ' Name': \n",
    "        #print(prop)\n",
    "        NProp = prop.split(' Name=\"')\n",
    "        NProp = NProp[1].split('\"', 1)\n",
    "        tmp.append(NProp[0])\n",
    "        #print(NProp[0])\n",
    "print(len(tmp))\n",
    "NavigationProperty = tmp\n",
    "# NavigationProperty"
   ]
  },
  {
   "cell_type": "code",
   "execution_count": 79,
   "metadata": {
    "hidden": true
   },
   "outputs": [
    {
     "name": "stdout",
     "output_type": "stream",
     "text": [
      "100\n"
     ]
    }
   ],
   "source": [
    "alt_portfolio_p = alt_portfolio.split(\"<Property\")\n",
    "tmp = []\n",
    "for prop in alt_portfolio_p: \n",
    "#     print(prop[0:5])\n",
    "    if prop[0:5] == ' Name': \n",
    "        #print(prop)\n",
    "        NProp = prop.split(' Name=\"')\n",
    "        NProp = NProp[1].split('\"', 1)\n",
    "        tmp.append(NProp[0])\n",
    "        #print(NProp[0])\n",
    "print(len(tmp))\n",
    "PropertyO = tmp\n",
    "# PropertyO"
   ]
  },
  {
   "cell_type": "code",
   "execution_count": null,
   "metadata": {
    "hidden": true
   },
   "outputs": [],
   "source": []
  },
  {
   "cell_type": "markdown",
   "metadata": {},
   "source": [
    "## OTh"
   ]
  },
  {
   "cell_type": "code",
   "execution_count": null,
   "metadata": {},
   "outputs": [],
   "source": []
  },
  {
   "cell_type": "code",
   "execution_count": null,
   "metadata": {},
   "outputs": [],
   "source": []
  },
  {
   "cell_type": "code",
   "execution_count": null,
   "metadata": {},
   "outputs": [],
   "source": []
  }
 ],
 "metadata": {
  "kernelspec": {
   "display_name": "Python 3",
   "language": "python",
   "name": "python3"
  },
  "language_info": {
   "codemirror_mode": {
    "name": "ipython",
    "version": 3
   },
   "file_extension": ".py",
   "mimetype": "text/x-python",
   "name": "python",
   "nbconvert_exporter": "python",
   "pygments_lexer": "ipython3",
   "version": "3.7.3"
  }
 },
 "nbformat": 4,
 "nbformat_minor": 2
}
